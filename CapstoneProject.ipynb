{
 "cells": [
  {
   "cell_type": "markdown",
   "metadata": {},
   "source": [
    "# Restaurant Diversity: San Francisco vs New York City\n",
    "#### Capstone Project - The Battle of the Neighborhoods (Week 1)"
   ]
  },
  {
   "cell_type": "markdown",
   "metadata": {},
   "source": [
    "## Introduction: Interesting bit of Curiosity\n",
    "#### <strong>Background:</strong>\n",
    "I love food! I love to eat.  My favorite type of food is Mexican followed by Japanese.  In particular, sushi is my favorite type of Japaense food, but I like trying all sorts of food.  I recently found an Ethiopian place near me that I love!  They introduced me to some new spices such as mitmita.\n",
    "\n",
    "I am planning to visit family.  I have some in New York City and some in San Francisco.  I can only spend a few weeks with one or the other, but not both.  I will visit one this year, and the other next year.  This year I will decide who to visit by the diversity of restaurants in their area.\n",
    "\n",
    "#### <strong>Conundrum:</strong>\n",
    "Both cities, San Francisco and New York, have large populations and support many different types of restaurants.  Which one has the most numerous and which has the most diverse types of restaurants?  I wanted to know which place would afford the most choices and which types of restaurants existed in one and not the other."
   ]
  },
  {
   "cell_type": "markdown",
   "metadata": {},
   "source": [
    "\n",
    "## Data\n",
    "The following data will be used :\n",
    "<table style=\"float:center\">\n",
    "    <tr>\n",
    "        <th style=\"border: 1px solid black; text-align:left; font-size:15px;\">Description</th>\n",
    "        <th style=\"border: 1px solid black; text-align:left; font-size:15px;\">Purpose</th>\n",
    "    </tr>\n",
    "    <tr>\n",
    "        <td style=\"border: 1px solid black; text-align:left;\">Wikipedia pages for Michelen Star Restaurants</td>\n",
    "        <td style=\"border: 1px solid black; text-align:left;\">This data will be used to give me the michelen star restuarants for 2018.  The latest common year for both cities.</td>\n",
    "    </tr>\n",
    "    <tr>\n",
    "        <td style=\"border: 1px solid black; text-align:left;\">Geopy API for GEO coordinates with each city</td>\n",
    "        <td style=\"border: 1px solid black; text-align:left;\">This data will show us the different areas within the city</td>\n",
    "    </tr>\n",
    "    <tr>\n",
    "        <td style=\"border: 1px solid black; text-align:left;\">Foursquare APIs</td>\n",
    "        <td style=\"border: 1px solid black; text-align:left;\">Restaurants and the types of restaurants.  I will also cross list this with the micheline start restaurants</td>\n",
    "    </tr>\n",
    "    <tr>\n",
    "        <td style=\"border: 1px solid black; text-align:left;\">Folium API</td>\n",
    "        <td style=\"border: 1px solid black; text-align:left;\">Shows the maps of both cities</td>\n",
    "    </tr>\n",
    "</table>"
   ]
  },
  {
   "cell_type": "code",
   "execution_count": 2,
   "metadata": {},
   "outputs": [],
   "source": [
    "# https://en.wikipedia.org/wiki/List_of_Michelin_starred_restaurants_in_San_Francisco_Bay_Area\n",
    "# https://en.wikipedia.org/wiki/List_of_Michelin_starred_restaurants_in_New_York_City\n"
   ]
  },
  {
   "cell_type": "code",
   "execution_count": null,
   "metadata": {},
   "outputs": [],
   "source": []
  }
 ],
 "metadata": {
  "kernelspec": {
   "display_name": "Python",
   "language": "python",
   "name": "conda-env-python-py"
  },
  "language_info": {
   "codemirror_mode": {
    "name": "ipython",
    "version": 3
   },
   "file_extension": ".py",
   "mimetype": "text/x-python",
   "name": "python",
   "nbconvert_exporter": "python",
   "pygments_lexer": "ipython3",
   "version": "3.6.11"
  }
 },
 "nbformat": 4,
 "nbformat_minor": 4
}
